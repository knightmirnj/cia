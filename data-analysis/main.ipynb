{
 "cells": [
  {
   "cell_type": "code",
   "execution_count": 1,
   "metadata": {
    "collapsed": true
   },
   "outputs": [],
   "source": [
    "import numpy as np\n",
    "import pandas as pd\n",
    "import seaborn as sns\n",
    "\n",
    "import matplotlib.pyplot as plt\n",
    "%matplotlib inline"
   ]
  },
  {
   "cell_type": "code",
   "execution_count": 2,
   "outputs": [],
   "source": [
    "df = pd.read_csv(\"../cia-factbook.csv\")"
   ],
   "metadata": {
    "collapsed": false,
    "pycharm": {
     "name": "#%%\n"
    }
   }
  },
  {
   "cell_type": "code",
   "execution_count": 3,
   "outputs": [
    {
     "name": "stdout",
     "output_type": "stream",
     "text": [
      "<class 'pandas.core.frame.DataFrame'>\n",
      "RangeIndex: 250 entries, 0 to 249\n",
      "Data columns (total 67 columns):\n",
      " #   Column                                                            Non-Null Count  Dtype  \n",
      "---  ------                                                            --------------  -----  \n",
      " 0   country                                                           250 non-null    object \n",
      " 1   country_comparison_infant_mortality_rate                          227 non-null    float64\n",
      " 2   crude_oil_production                                              219 non-null    float64\n",
      " 3   exports                                                           224 non-null    float64\n",
      " 4   broadband_fixed_subscriptions                                     203 non-null    float64\n",
      " 5   budget_surplus_deficit                                            222 non-null    float64\n",
      " 6   carbon_dioxide_emissions_from_consumption_of_energy               213 non-null    float64\n",
      " 7   country_comparison_airports                                       237 non-null    float64\n",
      " 8   country_comparison_area                                           240 non-null    float64\n",
      " 9   country_comparison_birth_rate                                     228 non-null    float64\n",
      " 10  country_comparison_children_under_the_age_of_5_years_underweight  131 non-null    float64\n",
      " 11  country_comparison_death_rate                                     228 non-null    float64\n",
      " 12  country_comparison_education_expenditures                         170 non-null    float64\n",
      " 13  country_comparison_hiv_aids_adult_prevalence_rate                 134 non-null    float64\n",
      " 14  country_comparison_hiv_aids_deaths                                60 non-null     float64\n",
      " 15  country_comparison_hiv_aids_people_living_with_hiv_aids           145 non-null    float64\n",
      " 16  gdp_per_capita                                                    227 non-null    float64\n",
      " 17  gdp_real_growth_rate                                              224 non-null    float64\n",
      " 18  gross_national_saving                                             184 non-null    float64\n",
      " 19  imports                                                           224 non-null    float64\n",
      " 20  industrial_production_growth_rate                                 202 non-null    float64\n",
      " 21  inflation_rate                                                    228 non-null    float64\n",
      " 22  internet_users                                                    229 non-null    float64\n",
      " 23  labor_force                                                       231 non-null    float64\n",
      " 24  natural_gas_consumption                                           215 non-null    float64\n",
      " 25  natural_gas_exports                                               215 non-null    float64\n",
      " 26  natural_gas_imports                                               215 non-null    float64\n",
      " 27  natural_gas_production                                            216 non-null    float64\n",
      " 28  natural_gas_proved_reserves                                       209 non-null    float64\n",
      " 29  public_debt                                                       210 non-null    float64\n",
      " 30  refined_petroleum_products_consumption                            214 non-null    float64\n",
      " 31  refined_petroleum_products_exports                                216 non-null    float64\n",
      " 32  refined_petroleum_products_imports                                214 non-null    float64\n",
      " 33  refined_petroleum_products_production                             216 non-null    float64\n",
      " 34  reserves_of_foreign_exchange_and_gold                             195 non-null    float64\n",
      " 35  taxes_and_other_revenues                                          221 non-null    float64\n",
      " 36  telephones_fixed_lines                                            225 non-null    float64\n",
      " 37  telephones_mobile_cellular                                        219 non-null    float64\n",
      " 38  unemployment_rate                                                 219 non-null    float64\n",
      " 39  crude_oil_proved_reserves                                         214 non-null    float64\n",
      " 40  current_account_balance                                           206 non-null    float64\n",
      " 41  debt_external                                                     207 non-null    float64\n",
      " 42  electricity_consumption                                           218 non-null    float64\n",
      " 43  electricity_exports                                               218 non-null    float64\n",
      " 44  electricity_from_fossil_fuels                                     214 non-null    float64\n",
      " 45  electricity_from_hydroelectric_plants                             214 non-null    float64\n",
      " 46  electricity_from_nuclear_fuels                                    214 non-null    float64\n",
      " 47  electricity_from_other_renewable_sources                          213 non-null    float64\n",
      " 48  electricity_imports                                               218 non-null    float64\n",
      " 49  electricity_installed_generating_capacity                         214 non-null    float64\n",
      " 50  electricity_production                                            219 non-null    float64\n",
      " 51  country_comparison_life_expectancy_at_birth                       227 non-null    float64\n",
      " 52  country_comparison_maternal_mortality_rate                        184 non-null    float64\n",
      " 53  country_comparison_median_age                                     227 non-null    float64\n",
      " 54  country_comparison_merchant_marine                                182 non-null    float64\n",
      " 55  country_comparison_military_expenditures                          158 non-null    float64\n",
      " 56  country_comparison_net_migration_rate                             227 non-null    float64\n",
      " 57  country_comparison_obesity_adult_prevalence_rate                  192 non-null    float64\n",
      " 58  country_comparison_population                                     237 non-null    float64\n",
      " 59  country_comparison_population_growth_rate                         236 non-null    float64\n",
      " 60  country_comparison_railways                                       136 non-null    float64\n",
      " 61  country_comparison_roadways                                       224 non-null    float64\n",
      " 62  country_comparison_total_fertility_rate                           227 non-null    float64\n",
      " 63  country_comparison_unemployment_youth_ages_15_24                  181 non-null    float64\n",
      " 64  country_comparison_waterways                                      107 non-null    float64\n",
      " 65  crude_oil_exports                                                 217 non-null    float64\n",
      " 66  crude_oil_imports                                                 217 non-null    float64\n",
      "dtypes: float64(66), object(1)\n",
      "memory usage: 131.0+ KB\n"
     ]
    }
   ],
   "source": [
    "df.info()"
   ],
   "metadata": {
    "collapsed": false,
    "pycharm": {
     "name": "#%%\n"
    }
   }
  },
  {
   "cell_type": "code",
   "execution_count": 4,
   "outputs": [
    {
     "data": {
      "text/plain": "          country  country_comparison_infant_mortality_rate  \\\n0     Afghanistan                                     104.3   \n1        Akrotiri                                       NaN   \n2         Albania                                      10.8   \n3         Algeria                                      17.6   \n4  American-Samoa                                       9.9   \n\n   crude_oil_production       exports  broadband_fixed_subscriptions  \\\n0                   0.0  7.840000e+08                        15999.0   \n1                   NaN           NaN                            NaN   \n2               14000.0  9.007000e+08                       361947.0   \n3             1259000.0  3.437000e+10                      3067022.0   \n4                   0.0  4.280000e+08                            NaN   \n\n   budget_surplus_deficit  \\\n0                   -15.1   \n1                     NaN   \n2                    -2.0   \n3                    -9.6   \n4                    -2.1   \n\n   carbon_dioxide_emissions_from_consumption_of_energy  \\\n0                                          9067000.0     \n1                                                NaN     \n2                                          4500000.0     \n3                                        135900000.0     \n4                                           361100.0     \n\n   country_comparison_airports  country_comparison_area  \\\n0                         46.0                 652230.0   \n1                          1.0                    123.0   \n2                          3.0                  28748.0   \n3                        149.0                2381740.0   \n4                          3.0                    224.0   \n\n   country_comparison_birth_rate  ...  \\\n0                           36.7  ...   \n1                            NaN  ...   \n2                           13.0  ...   \n3                           20.0  ...   \n4                           17.8  ...   \n\n   country_comparison_obesity_adult_prevalence_rate  \\\n0                                               5.5   \n1                                               NaN   \n2                                              21.7   \n3                                              27.4   \n4                                               NaN   \n\n   country_comparison_population  country_comparison_population_growth_rate  \\\n0                     36643815.0                                       2.38   \n1                            NaN                                        NaN   \n2                      3074579.0                                       0.28   \n3                     42972878.0                                       1.52   \n4                        49437.0                                      -1.40   \n\n   country_comparison_railways  country_comparison_roadways  \\\n0                          NaN                      34903.0   \n1                          NaN                          NaN   \n2                        677.0                       3945.0   \n3                       3973.0                     104000.0   \n4                          NaN                        241.0   \n\n   country_comparison_total_fertility_rate  \\\n0                                     4.82   \n1                                      NaN   \n2                                     1.53   \n3                                     2.59   \n4                                     2.35   \n\n   country_comparison_unemployment_youth_ages_15_24  \\\n0                                              17.6   \n1                                               NaN   \n2                                              31.9   \n3                                              39.3   \n4                                               NaN   \n\n   country_comparison_waterways  crude_oil_exports  crude_oil_imports  \n0                        1200.0                0.0                0.0  \n1                           NaN                NaN                NaN  \n2                          41.0            17290.0                0.0  \n3                           NaN           756400.0             5340.0  \n4                           NaN                0.0                0.0  \n\n[5 rows x 67 columns]",
      "text/html": "<div>\n<style scoped>\n    .dataframe tbody tr th:only-of-type {\n        vertical-align: middle;\n    }\n\n    .dataframe tbody tr th {\n        vertical-align: top;\n    }\n\n    .dataframe thead th {\n        text-align: right;\n    }\n</style>\n<table border=\"1\" class=\"dataframe\">\n  <thead>\n    <tr style=\"text-align: right;\">\n      <th></th>\n      <th>country</th>\n      <th>country_comparison_infant_mortality_rate</th>\n      <th>crude_oil_production</th>\n      <th>exports</th>\n      <th>broadband_fixed_subscriptions</th>\n      <th>budget_surplus_deficit</th>\n      <th>carbon_dioxide_emissions_from_consumption_of_energy</th>\n      <th>country_comparison_airports</th>\n      <th>country_comparison_area</th>\n      <th>country_comparison_birth_rate</th>\n      <th>...</th>\n      <th>country_comparison_obesity_adult_prevalence_rate</th>\n      <th>country_comparison_population</th>\n      <th>country_comparison_population_growth_rate</th>\n      <th>country_comparison_railways</th>\n      <th>country_comparison_roadways</th>\n      <th>country_comparison_total_fertility_rate</th>\n      <th>country_comparison_unemployment_youth_ages_15_24</th>\n      <th>country_comparison_waterways</th>\n      <th>crude_oil_exports</th>\n      <th>crude_oil_imports</th>\n    </tr>\n  </thead>\n  <tbody>\n    <tr>\n      <th>0</th>\n      <td>Afghanistan</td>\n      <td>104.3</td>\n      <td>0.0</td>\n      <td>7.840000e+08</td>\n      <td>15999.0</td>\n      <td>-15.1</td>\n      <td>9067000.0</td>\n      <td>46.0</td>\n      <td>652230.0</td>\n      <td>36.7</td>\n      <td>...</td>\n      <td>5.5</td>\n      <td>36643815.0</td>\n      <td>2.38</td>\n      <td>NaN</td>\n      <td>34903.0</td>\n      <td>4.82</td>\n      <td>17.6</td>\n      <td>1200.0</td>\n      <td>0.0</td>\n      <td>0.0</td>\n    </tr>\n    <tr>\n      <th>1</th>\n      <td>Akrotiri</td>\n      <td>NaN</td>\n      <td>NaN</td>\n      <td>NaN</td>\n      <td>NaN</td>\n      <td>NaN</td>\n      <td>NaN</td>\n      <td>1.0</td>\n      <td>123.0</td>\n      <td>NaN</td>\n      <td>...</td>\n      <td>NaN</td>\n      <td>NaN</td>\n      <td>NaN</td>\n      <td>NaN</td>\n      <td>NaN</td>\n      <td>NaN</td>\n      <td>NaN</td>\n      <td>NaN</td>\n      <td>NaN</td>\n      <td>NaN</td>\n    </tr>\n    <tr>\n      <th>2</th>\n      <td>Albania</td>\n      <td>10.8</td>\n      <td>14000.0</td>\n      <td>9.007000e+08</td>\n      <td>361947.0</td>\n      <td>-2.0</td>\n      <td>4500000.0</td>\n      <td>3.0</td>\n      <td>28748.0</td>\n      <td>13.0</td>\n      <td>...</td>\n      <td>21.7</td>\n      <td>3074579.0</td>\n      <td>0.28</td>\n      <td>677.0</td>\n      <td>3945.0</td>\n      <td>1.53</td>\n      <td>31.9</td>\n      <td>41.0</td>\n      <td>17290.0</td>\n      <td>0.0</td>\n    </tr>\n    <tr>\n      <th>3</th>\n      <td>Algeria</td>\n      <td>17.6</td>\n      <td>1259000.0</td>\n      <td>3.437000e+10</td>\n      <td>3067022.0</td>\n      <td>-9.6</td>\n      <td>135900000.0</td>\n      <td>149.0</td>\n      <td>2381740.0</td>\n      <td>20.0</td>\n      <td>...</td>\n      <td>27.4</td>\n      <td>42972878.0</td>\n      <td>1.52</td>\n      <td>3973.0</td>\n      <td>104000.0</td>\n      <td>2.59</td>\n      <td>39.3</td>\n      <td>NaN</td>\n      <td>756400.0</td>\n      <td>5340.0</td>\n    </tr>\n    <tr>\n      <th>4</th>\n      <td>American-Samoa</td>\n      <td>9.9</td>\n      <td>0.0</td>\n      <td>4.280000e+08</td>\n      <td>NaN</td>\n      <td>-2.1</td>\n      <td>361100.0</td>\n      <td>3.0</td>\n      <td>224.0</td>\n      <td>17.8</td>\n      <td>...</td>\n      <td>NaN</td>\n      <td>49437.0</td>\n      <td>-1.40</td>\n      <td>NaN</td>\n      <td>241.0</td>\n      <td>2.35</td>\n      <td>NaN</td>\n      <td>NaN</td>\n      <td>0.0</td>\n      <td>0.0</td>\n    </tr>\n  </tbody>\n</table>\n<p>5 rows × 67 columns</p>\n</div>"
     },
     "execution_count": 4,
     "metadata": {},
     "output_type": "execute_result"
    }
   ],
   "source": [
    "df.head()"
   ],
   "metadata": {
    "collapsed": false,
    "pycharm": {
     "name": "#%%\n"
    }
   }
  },
  {
   "cell_type": "code",
   "execution_count": 5,
   "outputs": [
    {
     "data": {
      "text/plain": "       country_comparison_infant_mortality_rate  crude_oil_production  \\\ncount                                227.000000          2.190000e+02   \nmean                                  19.720264          3.794760e+05   \nstd                                   19.285467          1.418810e+06   \nmin                                    1.700000          0.000000e+00   \n25%                                    5.550000          0.000000e+00   \n50%                                   11.400000          0.000000e+00   \n75%                                   29.000000          4.300000e+04   \nmax                                  104.300000          1.096200e+07   \n\n            exports  broadband_fixed_subscriptions  budget_surplus_deficit  \\\ncount  2.240000e+02                   2.030000e+02              222.000000   \nmean   1.144929e+11                   5.265964e+06               -3.365315   \nstd    3.153514e+11                   3.004216e+07                8.354093   \nmin    0.000000e+00                   2.000000e+02              -75.700000   \n25%    8.100250e+08                   1.975900e+04               -4.775000   \n50%    5.909500e+09                   3.061500e+05               -2.350000   \n75%    6.314775e+10                   2.360108e+06               -0.400000   \nmax    2.490000e+12                   4.073820e+08               25.600000   \n\n       carbon_dioxide_emissions_from_consumption_of_energy  \\\ncount                                       2.130000e+02     \nmean                                        1.763039e+08     \nstd                                         9.045993e+08     \nmin                                         1.050000e+02     \n25%                                         1.760000e+06     \n50%                                         1.004000e+07     \n75%                                         5.607000e+07     \nmax                                         1.167000e+10     \n\n       country_comparison_airports  country_comparison_area  \\\ncount                   237.000000             2.400000e+02   \nmean                    173.797468             6.263791e+05   \nstd                     933.608809             1.958893e+06   \nmin                       1.000000             1.400000e+01   \n25%                       6.000000             2.007500e+03   \n50%                      29.000000             6.998650e+04   \n75%                      96.000000             4.146432e+05   \nmax                   13513.000000             1.709824e+07   \n\n       country_comparison_birth_rate  \\\ncount                     228.000000   \nmean                       18.350877   \nstd                         9.290223   \nmin                         6.400000   \n25%                        11.375000   \n50%                        15.400000   \n75%                        23.000000   \nmax                        47.500000   \n\n       country_comparison_children_under_the_age_of_5_years_underweight  ...  \\\ncount                                         131.000000                 ...   \nmean                                           11.156489                 ...   \nstd                                             9.361493                 ...   \nmin                                             0.500000                 ...   \n25%                                             3.100000                 ...   \n50%                                             9.600000                 ...   \n75%                                            16.950000                 ...   \nmax                                            39.900000                 ...   \n\n       country_comparison_obesity_adult_prevalence_rate  \\\ncount                                        192.000000   \nmean                                          19.880729   \nstd                                           11.432112   \nmin                                            2.100000   \n25%                                            9.350000   \n50%                                           20.600000   \n75%                                           25.625000   \nmax                                           61.000000   \n\n       country_comparison_population  \\\ncount                   2.370000e+02   \nmean                    3.242091e+07   \nstd                     1.303887e+08   \nmin                     5.000000e+01   \n25%                     3.377210e+05   \n50%                     5.467439e+06   \n75%                     2.119663e+07   \nmax                     1.394016e+09   \n\n       country_comparison_population_growth_rate  country_comparison_railways  \\\ncount                                 236.000000                   136.000000   \nmean                                    0.955000                  9719.669118   \nstd                                     1.180323                 29784.351570   \nmin                                    -6.680000                     9.000000   \n25%                                     0.237500                   679.250000   \n50%                                     0.870000                  2366.000000   \n75%                                     1.722500                  5568.500000   \nmax                                     4.250000                293564.000000   \n\n       country_comparison_roadways  country_comparison_total_fertility_rate  \\\ncount                 2.240000e+02                               227.000000   \nmean                  1.697163e+05                                 2.464229   \nstd                   6.623220e+05                                 1.177068   \nmin                   0.000000e+00                                 0.870000   \n25%                   2.384500e+03                                 1.710000   \n50%                   2.041950e+04                                 1.970000   \n75%                   8.684525e+04                                 2.850000   \nmax                   6.586610e+06                                 7.000000   \n\n       country_comparison_unemployment_youth_ages_15_24  \\\ncount                                        181.000000   \nmean                                          18.151381   \nstd                                           12.233145   \nmin                                            0.400000   \n25%                                            8.700000   \n50%                                           14.900000   \n75%                                           25.900000   \nmax                                           56.700000   \n\n       country_comparison_waterways  crude_oil_exports  crude_oil_imports  \ncount                    107.000000       2.170000e+02       2.170000e+02  \nmean                    6064.308411       1.959116e+05       2.071905e+05  \nstd                    16181.425293       7.368318e+05       8.366294e+05  \nmin                        5.000000       0.000000e+00       0.000000e+00  \n25%                      583.500000       0.000000e+00       0.000000e+00  \n50%                     1300.000000       0.000000e+00       0.000000e+00  \n75%                     3848.500000       1.457000e+04       5.540000e+04  \nmax                   110000.000000       7.341000e+06       7.969000e+06  \n\n[8 rows x 66 columns]",
      "text/html": "<div>\n<style scoped>\n    .dataframe tbody tr th:only-of-type {\n        vertical-align: middle;\n    }\n\n    .dataframe tbody tr th {\n        vertical-align: top;\n    }\n\n    .dataframe thead th {\n        text-align: right;\n    }\n</style>\n<table border=\"1\" class=\"dataframe\">\n  <thead>\n    <tr style=\"text-align: right;\">\n      <th></th>\n      <th>country_comparison_infant_mortality_rate</th>\n      <th>crude_oil_production</th>\n      <th>exports</th>\n      <th>broadband_fixed_subscriptions</th>\n      <th>budget_surplus_deficit</th>\n      <th>carbon_dioxide_emissions_from_consumption_of_energy</th>\n      <th>country_comparison_airports</th>\n      <th>country_comparison_area</th>\n      <th>country_comparison_birth_rate</th>\n      <th>country_comparison_children_under_the_age_of_5_years_underweight</th>\n      <th>...</th>\n      <th>country_comparison_obesity_adult_prevalence_rate</th>\n      <th>country_comparison_population</th>\n      <th>country_comparison_population_growth_rate</th>\n      <th>country_comparison_railways</th>\n      <th>country_comparison_roadways</th>\n      <th>country_comparison_total_fertility_rate</th>\n      <th>country_comparison_unemployment_youth_ages_15_24</th>\n      <th>country_comparison_waterways</th>\n      <th>crude_oil_exports</th>\n      <th>crude_oil_imports</th>\n    </tr>\n  </thead>\n  <tbody>\n    <tr>\n      <th>count</th>\n      <td>227.000000</td>\n      <td>2.190000e+02</td>\n      <td>2.240000e+02</td>\n      <td>2.030000e+02</td>\n      <td>222.000000</td>\n      <td>2.130000e+02</td>\n      <td>237.000000</td>\n      <td>2.400000e+02</td>\n      <td>228.000000</td>\n      <td>131.000000</td>\n      <td>...</td>\n      <td>192.000000</td>\n      <td>2.370000e+02</td>\n      <td>236.000000</td>\n      <td>136.000000</td>\n      <td>2.240000e+02</td>\n      <td>227.000000</td>\n      <td>181.000000</td>\n      <td>107.000000</td>\n      <td>2.170000e+02</td>\n      <td>2.170000e+02</td>\n    </tr>\n    <tr>\n      <th>mean</th>\n      <td>19.720264</td>\n      <td>3.794760e+05</td>\n      <td>1.144929e+11</td>\n      <td>5.265964e+06</td>\n      <td>-3.365315</td>\n      <td>1.763039e+08</td>\n      <td>173.797468</td>\n      <td>6.263791e+05</td>\n      <td>18.350877</td>\n      <td>11.156489</td>\n      <td>...</td>\n      <td>19.880729</td>\n      <td>3.242091e+07</td>\n      <td>0.955000</td>\n      <td>9719.669118</td>\n      <td>1.697163e+05</td>\n      <td>2.464229</td>\n      <td>18.151381</td>\n      <td>6064.308411</td>\n      <td>1.959116e+05</td>\n      <td>2.071905e+05</td>\n    </tr>\n    <tr>\n      <th>std</th>\n      <td>19.285467</td>\n      <td>1.418810e+06</td>\n      <td>3.153514e+11</td>\n      <td>3.004216e+07</td>\n      <td>8.354093</td>\n      <td>9.045993e+08</td>\n      <td>933.608809</td>\n      <td>1.958893e+06</td>\n      <td>9.290223</td>\n      <td>9.361493</td>\n      <td>...</td>\n      <td>11.432112</td>\n      <td>1.303887e+08</td>\n      <td>1.180323</td>\n      <td>29784.351570</td>\n      <td>6.623220e+05</td>\n      <td>1.177068</td>\n      <td>12.233145</td>\n      <td>16181.425293</td>\n      <td>7.368318e+05</td>\n      <td>8.366294e+05</td>\n    </tr>\n    <tr>\n      <th>min</th>\n      <td>1.700000</td>\n      <td>0.000000e+00</td>\n      <td>0.000000e+00</td>\n      <td>2.000000e+02</td>\n      <td>-75.700000</td>\n      <td>1.050000e+02</td>\n      <td>1.000000</td>\n      <td>1.400000e+01</td>\n      <td>6.400000</td>\n      <td>0.500000</td>\n      <td>...</td>\n      <td>2.100000</td>\n      <td>5.000000e+01</td>\n      <td>-6.680000</td>\n      <td>9.000000</td>\n      <td>0.000000e+00</td>\n      <td>0.870000</td>\n      <td>0.400000</td>\n      <td>5.000000</td>\n      <td>0.000000e+00</td>\n      <td>0.000000e+00</td>\n    </tr>\n    <tr>\n      <th>25%</th>\n      <td>5.550000</td>\n      <td>0.000000e+00</td>\n      <td>8.100250e+08</td>\n      <td>1.975900e+04</td>\n      <td>-4.775000</td>\n      <td>1.760000e+06</td>\n      <td>6.000000</td>\n      <td>2.007500e+03</td>\n      <td>11.375000</td>\n      <td>3.100000</td>\n      <td>...</td>\n      <td>9.350000</td>\n      <td>3.377210e+05</td>\n      <td>0.237500</td>\n      <td>679.250000</td>\n      <td>2.384500e+03</td>\n      <td>1.710000</td>\n      <td>8.700000</td>\n      <td>583.500000</td>\n      <td>0.000000e+00</td>\n      <td>0.000000e+00</td>\n    </tr>\n    <tr>\n      <th>50%</th>\n      <td>11.400000</td>\n      <td>0.000000e+00</td>\n      <td>5.909500e+09</td>\n      <td>3.061500e+05</td>\n      <td>-2.350000</td>\n      <td>1.004000e+07</td>\n      <td>29.000000</td>\n      <td>6.998650e+04</td>\n      <td>15.400000</td>\n      <td>9.600000</td>\n      <td>...</td>\n      <td>20.600000</td>\n      <td>5.467439e+06</td>\n      <td>0.870000</td>\n      <td>2366.000000</td>\n      <td>2.041950e+04</td>\n      <td>1.970000</td>\n      <td>14.900000</td>\n      <td>1300.000000</td>\n      <td>0.000000e+00</td>\n      <td>0.000000e+00</td>\n    </tr>\n    <tr>\n      <th>75%</th>\n      <td>29.000000</td>\n      <td>4.300000e+04</td>\n      <td>6.314775e+10</td>\n      <td>2.360108e+06</td>\n      <td>-0.400000</td>\n      <td>5.607000e+07</td>\n      <td>96.000000</td>\n      <td>4.146432e+05</td>\n      <td>23.000000</td>\n      <td>16.950000</td>\n      <td>...</td>\n      <td>25.625000</td>\n      <td>2.119663e+07</td>\n      <td>1.722500</td>\n      <td>5568.500000</td>\n      <td>8.684525e+04</td>\n      <td>2.850000</td>\n      <td>25.900000</td>\n      <td>3848.500000</td>\n      <td>1.457000e+04</td>\n      <td>5.540000e+04</td>\n    </tr>\n    <tr>\n      <th>max</th>\n      <td>104.300000</td>\n      <td>1.096200e+07</td>\n      <td>2.490000e+12</td>\n      <td>4.073820e+08</td>\n      <td>25.600000</td>\n      <td>1.167000e+10</td>\n      <td>13513.000000</td>\n      <td>1.709824e+07</td>\n      <td>47.500000</td>\n      <td>39.900000</td>\n      <td>...</td>\n      <td>61.000000</td>\n      <td>1.394016e+09</td>\n      <td>4.250000</td>\n      <td>293564.000000</td>\n      <td>6.586610e+06</td>\n      <td>7.000000</td>\n      <td>56.700000</td>\n      <td>110000.000000</td>\n      <td>7.341000e+06</td>\n      <td>7.969000e+06</td>\n    </tr>\n  </tbody>\n</table>\n<p>8 rows × 66 columns</p>\n</div>"
     },
     "execution_count": 5,
     "metadata": {},
     "output_type": "execute_result"
    }
   ],
   "source": [
    "df.describe()"
   ],
   "metadata": {
    "collapsed": false,
    "pycharm": {
     "name": "#%%\n"
    }
   }
  },
  {
   "cell_type": "code",
   "execution_count": null,
   "outputs": [],
   "source": [],
   "metadata": {
    "collapsed": false,
    "pycharm": {
     "name": "#%%\n"
    }
   }
  }
 ],
 "metadata": {
  "kernelspec": {
   "display_name": "Python 3",
   "language": "python",
   "name": "python3"
  },
  "language_info": {
   "codemirror_mode": {
    "name": "ipython",
    "version": 2
   },
   "file_extension": ".py",
   "mimetype": "text/x-python",
   "name": "python",
   "nbconvert_exporter": "python",
   "pygments_lexer": "ipython2",
   "version": "2.7.6"
  }
 },
 "nbformat": 4,
 "nbformat_minor": 0
}